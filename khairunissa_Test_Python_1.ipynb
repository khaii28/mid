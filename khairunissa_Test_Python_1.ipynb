{
  "nbformat": 4,
  "nbformat_minor": 5,
  "metadata": {
    "kernelspec": {
      "display_name": "Python 3",
      "language": "python",
      "name": "python3"
    },
    "language_info": {
      "codemirror_mode": {
        "name": "ipython",
        "version": 3
      },
      "file_extension": ".py",
      "mimetype": "text/x-python",
      "name": "python",
      "nbconvert_exporter": "python",
      "pygments_lexer": "ipython3",
      "version": "3.7.0"
    },
    "colab": {
      "provenance": []
    }
  },
  "cells": [
    {
      "cell_type": "markdown",
      "metadata": {
        "id": "87919d68"
      },
      "source": [
        "### Python 1 : Addition To String"
      ],
      "id": "87919d68"
    },
    {
      "cell_type": "markdown",
      "metadata": {
        "id": "c061c30a"
      },
      "source": [
        "### Task"
      ],
      "id": "c061c30a"
    },
    {
      "cell_type": "markdown",
      "metadata": {
        "id": "66fcf833"
      },
      "source": [
        "Your function name should be `add_str`.\n",
        "\n",
        "Given a string filled with integers separated by comma. Create a new number, whose digits are the integers inside the string. Then, add 1 to the new number. Then, separate the digits again to a string which consits of **single digit of\n",
        "integers**, separated by comma. This new string will be your output string. The output string **should not have zero as its first character**.  See the examples for clearer understanding."
      ],
      "id": "66fcf833"
    },
    {
      "cell_type": "markdown",
      "metadata": {
        "id": "aee24374"
      },
      "source": [
        "### Example 1:\n",
        "\n",
        "- Input = `'1,3,5'`\n",
        "- Output = `'1,3,6'`\n",
        "\n",
        "Since the input is `'1,3,5'`, then the new number created is 135. Add 135 with 1 so it becomes 136. Then, separate back 136 into each individual digits separated by comma. This becomes `'1,3,6'`. So, the expected output of your solution is `'1,3,6'`"
      ],
      "id": "aee24374"
    },
    {
      "cell_type": "markdown",
      "metadata": {
        "id": "e85af386"
      },
      "source": [
        "### Example 2:\n",
        "\n",
        "- Input = `'1,3,39'`\n",
        "- Output = `'1,3,4,0'`\n",
        "\n",
        "Since the input is `'1,3,39'`, then the new number created is 1339. Add 1339 with 1 so it becomes 1340. Then, separate back 1340 into each individual digits separated by comma. This becomes `'1,3,4,0'`. So, the expected output of your solution is `'1,3,4,0'`"
      ],
      "id": "e85af386"
    },
    {
      "cell_type": "markdown",
      "metadata": {
        "id": "bbeb3f41"
      },
      "source": [
        "### Example 1:\n",
        "\n",
        "- Input = `'0,1,3,39'`\n",
        "- Output = `'1,3,4,0'`\n",
        "\n",
        "Since the input is `'0,1,3,39'`, then the new number created is 1339. Add 1339 with 1 so it becomes 1340. Then, separate back 1340 into each individual digits separated by comma. This becomes `'1,3,4,0'`. So, the expected output of your solution is `'1,3,4,0'`. Remember, do not put a 'zero' in the beginning of your output."
      ],
      "id": "bbeb3f41"
    },
    {
      "cell_type": "markdown",
      "metadata": {
        "id": "e7807496"
      },
      "source": [
        "### Input Format\n",
        "\n",
        "The input is in the shape of a string."
      ],
      "id": "e7807496"
    },
    {
      "cell_type": "markdown",
      "metadata": {
        "id": "e9f0d6c5"
      },
      "source": [
        "### Output Format\n",
        "\n",
        "The output is in the shape of a string."
      ],
      "id": "e9f0d6c5"
    },
    {
      "cell_type": "markdown",
      "metadata": {
        "id": "f9173e59"
      },
      "source": [
        "### Sample Input"
      ],
      "id": "f9173e59"
    },
    {
      "cell_type": "markdown",
      "metadata": {
        "id": "c0526b8c"
      },
      "source": [
        "`'1,5,1,9'`"
      ],
      "id": "c0526b8c"
    },
    {
      "cell_type": "markdown",
      "metadata": {
        "id": "71fad9f8"
      },
      "source": [
        "### Sample Output\n",
        "`'1,5,2,0'`"
      ],
      "id": "71fad9f8"
    },
    {
      "cell_type": "markdown",
      "metadata": {
        "id": "8306d027"
      },
      "source": [
        "### Space for Work"
      ],
      "id": "8306d027"
    },
    {
      "cell_type": "markdown",
      "source": [],
      "metadata": {
        "id": "Qoh5Py2JhyGT"
      },
      "id": "Qoh5Py2JhyGT"
    },
    {
      "cell_type": "code",
      "metadata": {
        "id": "6756b480"
      },
      "source": [
        "def add_str(input_string):\n",
        "\n",
        "    # Step 1: Split the input string by commas\n",
        "    digits_list = input_string.split(',')\n",
        "\n",
        "    # Step 2: Join the list of digits to create a single string\n",
        "    number_str = ''.join(digits_list)\n",
        "\n",
        "    # Step 3: Convert the string to an integer and add 1\n",
        "    result_num = int(number_str) + 1\n",
        "\n",
        "    # Step 4: Convert the result back to a string\n",
        "    result_str = str(result_num)\n",
        "\n",
        "    # Step 5: Split the string into individual digits and create a new list\n",
        "    result_digits = list(result_str)\n",
        "\n",
        "    # Step 6: Remove any leading zeros\n",
        "    while len(result_digits) > 0 and result_digits[0] == '0':\n",
        "        result_digits.pop(0)\n",
        "\n",
        "    # Step 7: Join the list of digits with commas to create the output string\n",
        "    output_string = ','.join(result_digits)\n",
        "\n",
        "    return output_string"
      ],
      "id": "6756b480",
      "execution_count": null,
      "outputs": []
    },
    {
      "cell_type": "code",
      "source": [
        "print(add_str('1,3,5')) # output: '1,3,6'"
      ],
      "metadata": {
        "colab": {
          "base_uri": "https://localhost:8080/"
        },
        "id": "lzkm5t3hiS5S",
        "outputId": "77380170-f1b2-41d7-9b15-585b862a6db5"
      },
      "id": "lzkm5t3hiS5S",
      "execution_count": null,
      "outputs": [
        {
          "output_type": "stream",
          "name": "stdout",
          "text": [
            "1,3,6\n"
          ]
        }
      ]
    },
    {
      "cell_type": "code",
      "source": [
        "\n",
        "print(add_str('1,3,39'))   # Output: '1,3,4,0'\n"
      ],
      "metadata": {
        "colab": {
          "base_uri": "https://localhost:8080/"
        },
        "id": "LsiE69KfjE44",
        "outputId": "b519dd4a-7125-43e1-8f8b-174a8a94a0f3"
      },
      "id": "LsiE69KfjE44",
      "execution_count": null,
      "outputs": [
        {
          "output_type": "stream",
          "name": "stdout",
          "text": [
            "1,3,4,0\n"
          ]
        }
      ]
    },
    {
      "cell_type": "code",
      "source": [
        "print(add_str('0,1,3,39')) # Output: '1,3,4,0'"
      ],
      "metadata": {
        "colab": {
          "base_uri": "https://localhost:8080/"
        },
        "id": "uRSqiNetjM7h",
        "outputId": "728a61c5-0033-468f-b718-6c3861873d9d"
      },
      "id": "uRSqiNetjM7h",
      "execution_count": null,
      "outputs": [
        {
          "output_type": "stream",
          "name": "stdout",
          "text": [
            "1,3,4,0\n"
          ]
        }
      ]
    },
    {
      "cell_type": "code",
      "source": [
        "print(add_str('1,5,1,9'))  # Output: '1,5,2,0'"
      ],
      "metadata": {
        "colab": {
          "base_uri": "https://localhost:8080/"
        },
        "id": "1cBx23-yjXtK",
        "outputId": "d134fc72-6ca9-40d1-de30-5bec6d540bdb"
      },
      "id": "1cBx23-yjXtK",
      "execution_count": null,
      "outputs": [
        {
          "output_type": "stream",
          "name": "stdout",
          "text": [
            "1,5,2,0\n"
          ]
        }
      ]
    }
  ]
}